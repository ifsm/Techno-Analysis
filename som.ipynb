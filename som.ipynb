{
 "cells": [
  {
   "cell_type": "code",
   "execution_count": null,
   "metadata": {},
   "outputs": [],
   "source": [
    "import numpy as np\n",
    "import decimal\n",
    "import matplotlib.pyplot as plt\n",
    "import pandas as pd\n",
    "from scipy.spatial.distance import cityblock\n",
    "import glob\n",
    "import statistics as st\n",
    "\n",
    "from apollon.som.som import IncrementalMap\n",
    "from apollon.som.utilities import best_match\n",
    "from pathlib import Path\n",
    "import pickle # for exporting and importing and exporting scaler and som\n",
    "\n",
    "import plotly.graph_objects as go\n",
    "from sklearn import preprocessing #for normierung"
   ]
  },
  {
   "cell_type": "markdown",
   "metadata": {},
   "source": [
    "## Prepare features"
   ]
  },
  {
   "cell_type": "code",
   "execution_count": null,
   "metadata": {},
   "outputs": [],
   "source": [
    "# dictionary of all features:\n",
    "features = {1: 'PhaseSpace',\n",
    "            2: 'ChannelCorrelation',\n",
    "            3: 'PeakMeter',\n",
    "            4: 'RMS',\n",
    "            5: 'CrestFactor',\n",
    "            6: 'PhaseSpaceLow',\n",
    "            7: 'ChannelCorrelationLow',\n",
    "            8: 'PeakMeterLow',\n",
    "            9: 'RMSLow',\n",
    "            10: 'CrestFactorLow',\n",
    "            11: 'PhaseSpaceMid',\n",
    "            12: 'ChannelCorrelationMid',\n",
    "            13: 'PeakMeterMid',\n",
    "            14: 'RMSMid',\n",
    "            15: 'CrestFactorMid',\n",
    "            16: 'PhaseSpaceHigh',\n",
    "            17: 'ChannelCorrelationHigh',\n",
    "            18: 'PeakMeterHigh',\n",
    "            19: 'RMSHigh',\n",
    "            20: 'CrestFactorHigh',\n",
    "            21: 'bpm'}\n",
    "\n",
    "# selection of preferred features\n",
    "nfeatures = {0: 21,\n",
    "             1: 1,\n",
    "             2: 2,\n",
    "             3: 5#,4:3, 5:4, 6:6, 7:7, 8:8, 9:9, 10:10, 11:11, 12:12, 13:13, 14:14, 15:15, 16:16, 17:17, 18:18, 19:19, 20:20\n",
    "            }\n",
    "# shall we take each feratures' 'mean', 'median', standard deviation ('std'), skewness ('skew'), or kurtosis ('kurt')?\n",
    "what=['median','median','median','median']\n",
    "numfeatures = len(nfeatures)\n",
    "\n",
    "measCsv=r'C:\\Users\\t_ziemer\\Desktop\\techno-csv'#top folder that contains one subfolder for each category that we want to mark with its own color later\n",
    "folds=glob.glob(str(measCsv+'\\\\*'))"
   ]
  },
  {
   "cell_type": "markdown",
   "metadata": {},
   "source": [
    "## Data Preparation"
   ]
  },
  {
   "cell_type": "raw",
   "metadata": {},
   "source": [
    "# this cell has been converted to a raw cell\n",
    "# training (unnecessary, the trained SOM can be imported):\n",
    "train_X = np.array([np.zeros(numfeatures)])\n",
    "target = []\n",
    "color_map = {}\n",
    "\n",
    "for cl, fold in enumerate(folds):\n",
    "    files = glob.glob(str(fold+'\\*.csv'))\n",
    "    numfiles = len(files)\n",
    "    lal1 = np.empty((numfiles, numfeatures))\n",
    "    # print(fold)\n",
    "\n",
    "    for j, f in enumerate(files):\n",
    "        la = pd.read_csv(f, index_col=0)\n",
    "        for dt, i in enumerate(nfeatures):\n",
    "            if what[dt]=='median':\n",
    "                lal1[j][i-1] = la[features[nfeatures[i]]].median()\n",
    "            elif what[dt]=='mean':\n",
    "                lal1[j][i-1] = la[features[nfeatures[i]]].mean()\n",
    "            elif what[dt]=='std':\n",
    "                lal1[j][i-1] = la[features[nfeatures[i]]].std()\n",
    "            elif what[dt]=='skew':\n",
    "                lal1[j][i-1] = la[features[nfeatures[i]]].skew()\n",
    "            elif what[dt]=='kurt':\n",
    "                lal1[j][i-1] = la[features[nfeatures[i]]].kurtosis()\n",
    "    train_X = np.concatenate((train_X, lal1))\n",
    "    target = target + [(str(Path(fold).relative_to(measCsv)), i+1)\n",
    "                       for i in range(0, len(lal1))]\n",
    "    color_map[str(Path(fold).relative_to(measCsv))] = cl\n",
    "train_X = train_X[1:]"
   ]
  },
  {
   "cell_type": "markdown",
   "metadata": {},
   "source": [
    "## Normalization"
   ]
  },
  {
   "cell_type": "raw",
   "metadata": {
    "scrolled": true
   },
   "source": [
    "# this cell has been converted to a raw cell\n",
    "# normalization (unnecessary, the normalization can be imported):\n",
    "sc = preprocessing.StandardScaler()\n",
    "scaler = sc.fit(train_X) #scales feature magnitude to mean = 0 and std = 1\n",
    "train_X = scaler.transform(train_X)\n",
    "# write scaler to file:\n",
    "scalerpath = r'C:\\python\\models\\2025-02-24-med-bpm-phsp-chacorr-crest.pkl'\n",
    "with open(scalerpath,'wb') as f:\n",
    "    pickle.dump(scaler, f)"
   ]
  },
  {
   "cell_type": "markdown",
   "metadata": {},
   "source": [
    "## Fit SOM"
   ]
  },
  {
   "cell_type": "raw",
   "metadata": {},
   "source": [
    "# this cell has been converted to a raw cell\n",
    "# train the SOM (unnecessary, the trained SOM can be imported):\n",
    "dx = int(np.sqrt(train_X.shape[0]))+20#+4\n",
    "dw = train_X.shape[1]\n",
    "som = IncrementalMap((dx, dx, dw), n_iter=2000, eta=0.025, nhr=25)\n",
    "som.fit(train_X)\n",
    "pickle.dump(som, open(sompath, 'wb'))"
   ]
  },
  {
   "cell_type": "code",
   "execution_count": null,
   "metadata": {},
   "outputs": [],
   "source": [
    "# Load SOM and Scaler:\n",
    "sompath = r'C:\\python\\models\\2025-02-24-med-bpm-phsp-chacorr-crest.sav'\n",
    "scalerpath = r'C:\\python\\models\\2025-02-24-med-bpm-phsp-chacorr-crest.pkl'\n",
    "som = pickle.load(open(sompath, 'rb'))\n",
    "scaler = pickle.load(open(scalerpath,'rb'))"
   ]
  },
  {
   "cell_type": "markdown",
   "metadata": {},
   "source": [
    "## Results"
   ]
  },
  {
   "cell_type": "code",
   "execution_count": null,
   "metadata": {},
   "outputs": [],
   "source": [
    "# load u-matrix and choose color scheme for item point cloud:\n",
    "um = som.umatrix()\n",
    "\n",
    "# colors for various styles (subgenres):\n",
    "#colrs=['lightcoral','blue','red','indianred','magenta','darkorange','slateblue','hotpink','blueviolet','lightpink','dodgerblue','deepskyblue','deeppink','royalblue','tomato','skyblue','mediumblue','royalblue','red','blue','red','blue','red','blue','red','blue','red','blue','red','blue','red','blue','red','blue','red','blue','red','blue','red','blue','red','blue','red','blue','red','blue','red','blue','red','blue','red','blue','red','blue','red','blue','red','blue','red','blue','red','blue','red','blue','red','blue','red','blue','red','blue','red','blue','red','blue','red','blue','red','blue','red','blue','red','blue','red','blue','red','blue','red','blue','red']\n",
    "\n",
    "# colors for nations and various years:\n",
    "#colrs=['red','blue','red','blue','red','blue','red','blue','red','blue','red','blue','red','blue','red','blue','red','blue','red','blue','red','blue','red','blue','red','blue','red','blue','red','blue','red','blue','red','blue','red','blue','red','blue','red','blue','red','blue','red','blue','red','blue','red','blue','red','blue','red','blue','red','blue','red','blue','red','blue','red','blue','red','blue','red','blue','red','blue','red','blue','red','blue','red','blue','red','blue','red','blue','red','blue','red','blue','red','blue','red']\n",
    "\n",
    "# colors for nations only:\n",
    "colrs=['blue','red']"
   ]
  },
  {
   "cell_type": "code",
   "execution_count": null,
   "metadata": {
    "scrolled": true
   },
   "outputs": [],
   "source": [
    "# Assign each item to its Best Matching Unit (BMU) on the SOM:\n",
    "import random\n",
    "msz=5\n",
    "trace1=go.Heatmap(z=um, colorscale='viridis', showscale = False, hoverinfo= 'none')\n",
    "data=[trace1]\n",
    "\n",
    "n=0\n",
    "for fold in folds:\n",
    "    files = glob.glob(str(fold+'\\\\*.csv'))\n",
    "    numfiles = len(files)\n",
    "    lal1 = np.empty((numfiles, numfeatures))\n",
    "    nameS = []\n",
    "    nameT = []\n",
    "    for j, f in enumerate(files):\n",
    "        la = pd.read_csv(f, index_col=0)\n",
    "        nameS.append(Path(f).stem)\n",
    "        nameT.append(Path(f).stem[0])\n",
    "        for dt, i in enumerate(nfeatures):\n",
    "            if what[dt]=='median':\n",
    "                lal1[j][i-1] = la[features[nfeatures[i]]].median()\n",
    "            elif what[dt]=='mean':\n",
    "                lal1[j][i-1] = la[features[nfeatures[i]]].mean()\n",
    "            elif what[dt]=='std':\n",
    "                lal1[j][i-1] = la[features[nfeatures[i]]].std()\n",
    "            elif what[dt]=='skew':\n",
    "                lal1[j][i-1] = la[features[nfeatures[i]]].skew()\n",
    "            elif what[dt]=='kurt':\n",
    "                lal1[j][i-1] = la[features[nfeatures[i]]].kurtosis()\n",
    "    bmu, err = best_match(som.weights, scaler.transform(lal1), som.metric)\n",
    "    py, px = np.unravel_index(bmu, som.shape)\n",
    "    trace=go.Scatter(x=px+random.uniform(-0.4,0.4),y=py+random.uniform(-0.4,0.4), mode='markers', name=Path(fold).stem, hoverinfo='text', text = nameS, marker_size=msz, marker_color=colrs[n])\n",
    "    data.append(trace)\n",
    "    n=n+1"
   ]
  },
  {
   "cell_type": "code",
   "execution_count": null,
   "metadata": {
    "scrolled": false
   },
   "outputs": [],
   "source": [
    "# plot the U-Matrix of the SOM and all items:\n",
    "lay=go.Layout(width=900, height=800)\n",
    "fig=go.Figure(data=data, layout=lay)\n",
    "# save as vector graphic for papers:\n",
    "#fig.savefig('SOM-BPM-PhSp-ChCorr-Crest-Genres.pdf', format='pdf',bbox_inches='tight')\n",
    "fig.update_xaxes(range=[-1, 115])  # Set x-axis range\n",
    "fig.update_yaxes(range=[-1, 115])  # Set y-axis range\n",
    "fig.show()"
   ]
  },
  {
   "cell_type": "code",
   "execution_count": null,
   "metadata": {},
   "outputs": [],
   "source": [
    "# Export U-Matrix of the SOM as an interactive HTML file:\n",
    "fig.write_html(r'C:\\python\\maps\\2025-03-10-med-bpm-phsp-chacorr-crest-Nations+years-scale.html')"
   ]
  },
  {
   "cell_type": "markdown",
   "metadata": {},
   "source": [
    "## Component planes"
   ]
  },
  {
   "cell_type": "code",
   "execution_count": null,
   "metadata": {
    "scrolled": false
   },
   "outputs": [],
   "source": [
    "#Plot component planes. Each subplot is a feature selected above\n",
    "fig, (axs) = plt.subplots(2, 2, figsize=(8, 8), sharex=True, sharey=True)\n",
    "fig.tight_layout()\n",
    "for i, (fn, ax) in enumerate(zip(nfeatures, axs.flatten())):\n",
    "    ax.set_title(features[nfeatures[fn]])\n",
    "    ax.imshow(som.weights[:, i].reshape(som.shape), origin='lower', aspect='equal')"
   ]
  },
  {
   "cell_type": "code",
   "execution_count": null,
   "metadata": {},
   "outputs": [],
   "source": [
    "# export component planes as a PNG File:\n",
    "fig.savefig(r'C:\\python\\maps\\2025-02-24-med-bpm-phsp-chacorr-crest.png',bbox_inches='tight')"
   ]
  }
 ],
 "metadata": {
  "kernelspec": {
   "display_name": "Python 3 (ipykernel)",
   "language": "python",
   "name": "python3"
  },
  "language_info": {
   "codemirror_mode": {
    "name": "ipython",
    "version": 3
   },
   "file_extension": ".py",
   "mimetype": "text/x-python",
   "name": "python",
   "nbconvert_exporter": "python",
   "pygments_lexer": "ipython3",
   "version": "3.10.7"
  },
  "vscode": {
   "interpreter": {
    "hash": "4564dc58dfc4f7da65a8596492a0cea475f3de274280957854699bb731551874"
   }
  }
 },
 "nbformat": 4,
 "nbformat_minor": 4
}
